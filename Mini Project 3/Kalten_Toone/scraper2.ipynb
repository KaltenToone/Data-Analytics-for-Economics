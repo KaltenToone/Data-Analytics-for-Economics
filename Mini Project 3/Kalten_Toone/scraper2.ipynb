{
 "cells": [
  {
   "cell_type": "code",
   "execution_count": 13,
   "metadata": {},
   "outputs": [
    {
     "name": "stdout",
     "output_type": "stream",
     "text": [
      "Requirement already satisfied: requests in c:\\phd\\venv\\lib\\site-packages (2.32.3)\n",
      "Requirement already satisfied: beautifulsoup4 in c:\\phd\\venv\\lib\\site-packages (4.13.3)\n",
      "Requirement already satisfied: pandas in c:\\phd\\venv\\lib\\site-packages (2.2.3)\n",
      "Requirement already satisfied: selenium in c:\\phd\\venv\\lib\\site-packages (4.28.1)\n",
      "Requirement already satisfied: charset-normalizer<4,>=2 in c:\\phd\\venv\\lib\\site-packages (from requests) (3.4.1)\n",
      "Requirement already satisfied: idna<4,>=2.5 in c:\\phd\\venv\\lib\\site-packages (from requests) (3.10)\n",
      "Requirement already satisfied: urllib3<3,>=1.21.1 in c:\\phd\\venv\\lib\\site-packages (from requests) (2.3.0)\n",
      "Requirement already satisfied: certifi>=2017.4.17 in c:\\phd\\venv\\lib\\site-packages (from requests) (2025.1.31)\n",
      "Requirement already satisfied: soupsieve>1.2 in c:\\phd\\venv\\lib\\site-packages (from beautifulsoup4) (2.6)\n",
      "Requirement already satisfied: typing-extensions>=4.0.0 in c:\\phd\\venv\\lib\\site-packages (from beautifulsoup4) (4.12.2)\n",
      "Requirement already satisfied: numpy>=1.26.0 in c:\\phd\\venv\\lib\\site-packages (from pandas) (2.2.2)\n",
      "Requirement already satisfied: python-dateutil>=2.8.2 in c:\\phd\\venv\\lib\\site-packages (from pandas) (2.9.0.post0)\n",
      "Requirement already satisfied: pytz>=2020.1 in c:\\phd\\venv\\lib\\site-packages (from pandas) (2025.1)\n",
      "Requirement already satisfied: tzdata>=2022.7 in c:\\phd\\venv\\lib\\site-packages (from pandas) (2025.1)\n",
      "Requirement already satisfied: trio~=0.17 in c:\\phd\\venv\\lib\\site-packages (from selenium) (0.28.0)\n",
      "Requirement already satisfied: trio-websocket~=0.9 in c:\\phd\\venv\\lib\\site-packages (from selenium) (0.11.1)\n",
      "Requirement already satisfied: websocket-client~=1.8 in c:\\phd\\venv\\lib\\site-packages (from selenium) (1.8.0)\n",
      "Requirement already satisfied: six>=1.5 in c:\\phd\\venv\\lib\\site-packages (from python-dateutil>=2.8.2->pandas) (1.17.0)\n",
      "Requirement already satisfied: attrs>=23.2.0 in c:\\phd\\venv\\lib\\site-packages (from trio~=0.17->selenium) (25.1.0)\n",
      "Requirement already satisfied: sortedcontainers in c:\\phd\\venv\\lib\\site-packages (from trio~=0.17->selenium) (2.4.0)\n",
      "Requirement already satisfied: outcome in c:\\phd\\venv\\lib\\site-packages (from trio~=0.17->selenium) (1.3.0.post0)\n",
      "Requirement already satisfied: sniffio>=1.3.0 in c:\\phd\\venv\\lib\\site-packages (from trio~=0.17->selenium) (1.3.1)\n",
      "Requirement already satisfied: cffi>=1.14 in c:\\phd\\venv\\lib\\site-packages (from trio~=0.17->selenium) (1.17.1)\n",
      "Requirement already satisfied: wsproto>=0.14 in c:\\phd\\venv\\lib\\site-packages (from trio-websocket~=0.9->selenium) (1.2.0)\n",
      "Requirement already satisfied: pysocks!=1.5.7,<2.0,>=1.5.6 in c:\\phd\\venv\\lib\\site-packages (from urllib3[socks]<3,>=1.26->selenium) (1.7.1)\n",
      "Requirement already satisfied: pycparser in c:\\phd\\venv\\lib\\site-packages (from cffi>=1.14->trio~=0.17->selenium) (2.22)\n",
      "Requirement already satisfied: h11<1,>=0.9.0 in c:\\phd\\venv\\lib\\site-packages (from wsproto>=0.14->trio-websocket~=0.9->selenium) (0.14.0)\n",
      "Note: you may need to restart the kernel to use updated packages.\n"
     ]
    },
    {
     "name": "stderr",
     "output_type": "stream",
     "text": [
      "\n",
      "[notice] A new release of pip is available: 24.3.1 -> 25.0.1\n",
      "[notice] To update, run: python.exe -m pip install --upgrade pip\n"
     ]
    }
   ],
   "source": [
    "pip install requests beautifulsoup4 pandas selenium"
   ]
  },
  {
   "cell_type": "code",
   "execution_count": 10,
   "metadata": {},
   "outputs": [],
   "source": [
    "# Importing necessary libraries\n",
    "import requests  # For fetching the webpage\n",
    "from bs4 import BeautifulSoup  # For parsing the webpage\n",
    "import pandas as pd"
   ]
  },
  {
   "cell_type": "code",
   "execution_count": 4,
   "metadata": {},
   "outputs": [
    {
     "name": "stdout",
     "output_type": "stream",
     "text": [
      "Successfully fetched the webpage!\n"
     ]
    }
   ],
   "source": [
    "# URL of the webpage to scrape\n",
    "url = 'https://starbucksmenuprices.com/'\n",
    "\n",
    "# Send a request to the server\n",
    "response = requests.get(url)\n",
    "\n",
    "# Check if the request was successful\n",
    "if response.status_code == 200:\n",
    "    print(\"Successfully fetched the webpage!\")\n",
    "else:\n",
    "    print(f\"Failed to fetch webpage. Status code: {response.status_code}\")"
   ]
  },
  {
   "cell_type": "code",
   "execution_count": 6,
   "metadata": {},
   "outputs": [],
   "source": [
    "# Parse the webpage content with BeautifulSoup\n",
    "soup = BeautifulSoup(response.text, 'html.parser')\n",
    "\n",
    "# Print the HTML content to understand its structure\n",
    "#print(soup.prettify())"
   ]
  },
  {
   "cell_type": "code",
   "execution_count": 7,
   "metadata": {},
   "outputs": [
    {
     "name": "stdout",
     "output_type": "stream",
     "text": [
      "<ul class=\"sub-menu\">\n",
      "<li class=\"menu-item menu-item-type-post_type menu-item-object-page menu-item-32\" id=\"menu-item-32\"><a href=\"https://starbucksmenuprices.com/starbucks-au-prices/\">Australia</a></li>\n",
      "<li class=\"menu-item menu-item-type-post_type menu-item-object-page menu-item-42\" id=\"menu-item-42\"><a href=\"https://starbucksmenuprices.com/starbucks-brasil-precos/\">Brasil</a></li>\n",
      "<li class=\"menu-item menu-item-type-post_type menu-item-object-page menu-item-70\" id=\"menu-item-70\"><a href=\"https://starbucksmenuprices.com/starbucks-%d1%86%d0%b5%d0%bd%d0%b8/\">Bulgaria</a></li>\n",
      "<li class=\"menu-item menu-item-type-post_type menu-item-object-page menu-item-58\" id=\"menu-item-58\"><a href=\"https://starbucksmenuprices.com/starbucks-canada-menu/\">Canada</a></li>\n",
      "</ul>\n"
     ]
    }
   ],
   "source": [
    "# Find all <ul> elements containing the country links\n",
    "sections = soup.find_all('ul')  # Locate all <ul> elements\n",
    "\n",
    "# Lists in Python: The result is a list, which can store multiple items.\n",
    "print(sections[1])"
   ]
  },
  {
   "cell_type": "code",
   "execution_count": 8,
   "metadata": {},
   "outputs": [],
   "source": [
    "# Extract links from the <ul> sections\n",
    "country_links = []  # Empty list to store results\n",
    "\n",
    "for section in sections:\n",
    "    links = section.find_all('a')  # Find all <a> tags in each section\n",
    "    for link in links:\n",
    "        country_name = link.text.strip()  # Get the visible text of the link\n",
    "        country_url = link.get('href')  # Get the href attribute (URL)\n",
    "        country_links.append({'Country': country_name, 'URL': country_url})"
   ]
  },
  {
   "cell_type": "code",
   "execution_count": 11,
   "metadata": {},
   "outputs": [
    {
     "name": "stdout",
     "output_type": "stream",
     "text": [
      "     Country                                                URL\n",
      "0        A-C                                                  #\n",
      "1  Australia  https://starbucksmenuprices.com/starbucks-au-p...\n",
      "2     Brasil  https://starbucksmenuprices.com/starbucks-bras...\n",
      "3   Bulgaria  https://starbucksmenuprices.com/starbucks-%d1%...\n",
      "4     Canada  https://starbucksmenuprices.com/starbucks-cana...\n"
     ]
    }
   ],
   "source": [
    "df = pd.DataFrame(country_links)\n",
    "\n",
    "# Display the first few rows of the DataFrame\n",
    "print(df.head())"
   ]
  },
  {
   "cell_type": "code",
   "execution_count": 12,
   "metadata": {},
   "outputs": [
    {
     "name": "stdout",
     "output_type": "stream",
     "text": [
      "Saved country links to starbucks_country_links.csv\n"
     ]
    }
   ],
   "source": [
    "# Save the DataFrame to a CSV file\n",
    "df.to_csv('starbucks_country_links.csv', index=False)\n",
    "print(\"Saved country links to starbucks_country_links.csv\")"
   ]
  },
  {
   "cell_type": "code",
   "execution_count": 1,
   "metadata": {},
   "outputs": [
    {
     "ename": "FileNotFoundError",
     "evalue": "[WinError 3] The system cannot find the path specified: 'project3/prices/'",
     "output_type": "error",
     "traceback": [
      "\u001b[1;31m---------------------------------------------------------------------------\u001b[0m",
      "\u001b[1;31mFileNotFoundError\u001b[0m                         Traceback (most recent call last)",
      "Cell \u001b[1;32mIn[1], line 70\u001b[0m\n\u001b[0;32m     67\u001b[0m         worldwide_latte_prices[country_name] \u001b[38;5;241m=\u001b[39m latte_price\n\u001b[0;32m     69\u001b[0m \u001b[38;5;66;03m# Use ThreadPoolExecutor for parallel processing\u001b[39;00m\n\u001b[1;32m---> 70\u001b[0m file_list \u001b[38;5;241m=\u001b[39m [f \u001b[38;5;28;01mfor\u001b[39;00m f \u001b[38;5;129;01min\u001b[39;00m \u001b[43mos\u001b[49m\u001b[38;5;241;43m.\u001b[39;49m\u001b[43mlistdir\u001b[49m\u001b[43m(\u001b[49m\u001b[43mfolder_path\u001b[49m\u001b[43m)\u001b[49m \u001b[38;5;28;01mif\u001b[39;00m f\u001b[38;5;241m.\u001b[39mstartswith(\u001b[38;5;124m'\u001b[39m\u001b[38;5;124mstarbucks_prices_\u001b[39m\u001b[38;5;124m'\u001b[39m) \u001b[38;5;129;01mand\u001b[39;00m f\u001b[38;5;241m.\u001b[39mendswith(\u001b[38;5;124m'\u001b[39m\u001b[38;5;124m.csv\u001b[39m\u001b[38;5;124m'\u001b[39m)]\n\u001b[0;32m     71\u001b[0m \u001b[38;5;28;01mwith\u001b[39;00m ThreadPoolExecutor() \u001b[38;5;28;01mas\u001b[39;00m executor:\n\u001b[0;32m     72\u001b[0m     executor\u001b[38;5;241m.\u001b[39mmap(process_file, file_list)\n",
      "\u001b[1;31mFileNotFoundError\u001b[0m: [WinError 3] The system cannot find the path specified: 'project3/prices/'"
     ]
    }
   ],
   "source": [
    "import os\n",
    "import pandas as pd\n",
    "import ftfy\n",
    "from langdetect import detect\n",
    "from deep_translator import GoogleTranslator\n",
    "from concurrent.futures import ThreadPoolExecutor\n",
    "\n",
    "folder_path = 'project3/prices/'  # Directory where the files are stored\n",
    "worldwide_latte_prices = {}\n",
    "translator = GoogleTranslator(source='auto', target=\"en\")\n",
    "translation_cache = {}  # Dictionary to cache translations\n",
    "\n",
    "def fix_text_mojibake(text):\n",
    "    \"\"\"Fix mojibake and return cleaned text.\"\"\"\n",
    "    fixed_text = ftfy.fix_text(text)  # Fix mojibake\n",
    "    return fixed_text.strip() if fixed_text.strip() else text  # Ensure no empty strings\n",
    "\n",
    "def detect_language(text_list):\n",
    "    \"\"\"Detect language based on multiple samples for accuracy.\"\"\"\n",
    "    combined_text = \" \".join(text_list[:5])  # Use the first 5 items for detection\n",
    "    try:\n",
    "        return detect(combined_text)\n",
    "    except Exception:\n",
    "        return \"unknown\"\n",
    "\n",
    "def translate_text(text, source_lang):\n",
    "    \"\"\"Translate text only if it's not English.\"\"\"\n",
    "    if text in translation_cache:\n",
    "        return translation_cache[text]  # Return cached translation if available\n",
    "    \n",
    "    if source_lang != \"en\":\n",
    "        try:\n",
    "            translated_text = translator.translate(text)\n",
    "            translation_cache[text] = translated_text  # Cache the translation\n",
    "            return translated_text\n",
    "        except Exception:\n",
    "            return text  # Return original if translation fails\n",
    "    return text  # If already English, return as is\n",
    "\n",
    "def process_file(file_name):\n",
    "    \"\"\"Process a single CSV file: fix mojibake, translate, and extract latte price.\"\"\"\n",
    "    country_name = file_name.replace('starbucks_prices_', '').replace('.csv', '').capitalize()\n",
    "    file_path = os.path.join(folder_path, file_name)\n",
    "    \n",
    "    df = pd.read_csv(file_path)\n",
    "\n",
    "    # Step 1: Fix Mojibake on the 'Item' column\n",
    "    df['Item'] = df['Item'].astype(str).apply(fix_text_mojibake)\n",
    "\n",
    "    # Step 2: Detect language of the fixed column\n",
    "    detected_lang = detect_language(df['Item'].astype(str).tolist())\n",
    "\n",
    "    # Step 3: Translate if necessary\n",
    "    if detected_lang != \"en\":\n",
    "        df['Item'] = df['Item'].astype(str).apply(lambda x: translate_text(x, detected_lang))\n",
    "\n",
    "    # Save the translated data back to CSV\n",
    "    translated_file_path = os.path.join(folder_path, f\"translated_{file_name}\")\n",
    "    df.to_csv(translated_file_path, index=False, encoding='utf-8-sig')  # Use UTF-8 for full compatibility\n",
    "    \n",
    "    print(f\"Translated data saved to {translated_file_path}\")\n",
    "\n",
    "    # Step 4: Search for 'Latte'\n",
    "    latte_row = df[df['Item'].str.lower().str.contains('latte', na=False)]\n",
    "    if not latte_row.empty:\n",
    "        latte_price = latte_row.iloc[0]['Price']\n",
    "        worldwide_latte_prices[country_name] = latte_price\n",
    "\n",
    "# Use ThreadPoolExecutor for parallel processing\n",
    "file_list = [f for f in os.listdir(folder_path) if f.startswith('starbucks_prices_') and f.endswith('.csv')]\n",
    "with ThreadPoolExecutor() as executor:\n",
    "    executor.map(process_file, file_list)\n",
    "\n",
    "# Save the consolidated data to a new CSV file\n",
    "output_file = 'project3/worldwide_latte_prices.csv'\n",
    "df_worldwide = pd.DataFrame(list(worldwide_latte_prices.items()), columns=['Country', 'Latte Price'])\n",
    "df_worldwide.to_csv(output_file, index=False, encoding='utf-8-sig')\n",
    "\n",
    "print(f\"Worldwide latte prices saved to {output_file}\")\n",
    "print(df_worldwide)\n"
   ]
  }
 ],
 "metadata": {
  "kernelspec": {
   "display_name": "Python 3",
   "language": "python",
   "name": "python3"
  },
  "language_info": {
   "codemirror_mode": {
    "name": "ipython",
    "version": 3
   },
   "file_extension": ".py",
   "mimetype": "text/x-python",
   "name": "python",
   "nbconvert_exporter": "python",
   "pygments_lexer": "ipython3",
   "version": "3.13.1"
  }
 },
 "nbformat": 4,
 "nbformat_minor": 2
}
