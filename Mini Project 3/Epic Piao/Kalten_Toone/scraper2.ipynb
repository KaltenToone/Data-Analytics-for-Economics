{
 "cells": [
  {
   "cell_type": "code",
   "execution_count": null,
   "metadata": {},
   "outputs": [],
   "source": [
    "pip install requests beautifulsoup4 pandas selenium"
   ]
  },
  {
   "cell_type": "code",
   "execution_count": 2,
   "metadata": {},
   "outputs": [],
   "source": [
    "# Importing necessary libraries\n",
    "import requests  # For fetching the webpage\n",
    "from bs4 import BeautifulSoup  # For parsing the webpage\n",
    "import pandas as pd"
   ]
  },
  {
   "cell_type": "code",
   "execution_count": 3,
   "metadata": {},
   "outputs": [
    {
     "name": "stdout",
     "output_type": "stream",
     "text": [
      "Successfully fetched the webpage!\n"
     ]
    }
   ],
   "source": [
    "# URL of the webpage to scrape\n",
    "url = 'https://starbucksmenuprices.com/'\n",
    "\n",
    "# Send a request to the server\n",
    "response = requests.get(url)\n",
    "\n",
    "# Check if the request was successful\n",
    "if response.status_code == 200:\n",
    "    print(\"Successfully fetched the webpage!\")\n",
    "else:\n",
    "    print(f\"Failed to fetch webpage. Status code: {response.status_code}\")"
   ]
  },
  {
   "cell_type": "code",
   "execution_count": 5,
   "metadata": {},
   "outputs": [],
   "source": [
    "# Parse the webpage content with BeautifulSoup\n",
    "soup = BeautifulSoup(response.text, 'html.parser')\n",
    "\n",
    "# Print the HTML content to understand its structure\n",
    "#print(soup.prettify())"
   ]
  },
  {
   "cell_type": "code",
   "execution_count": 6,
   "metadata": {},
   "outputs": [
    {
     "name": "stdout",
     "output_type": "stream",
     "text": [
      "<ul class=\"sub-menu\">\n",
      "<li class=\"menu-item menu-item-type-post_type menu-item-object-page menu-item-32\" id=\"menu-item-32\"><a href=\"https://starbucksmenuprices.com/starbucks-au-prices/\">Australia</a></li>\n",
      "<li class=\"menu-item menu-item-type-post_type menu-item-object-page menu-item-42\" id=\"menu-item-42\"><a href=\"https://starbucksmenuprices.com/starbucks-brasil-precos/\">Brasil</a></li>\n",
      "<li class=\"menu-item menu-item-type-post_type menu-item-object-page menu-item-70\" id=\"menu-item-70\"><a href=\"https://starbucksmenuprices.com/starbucks-%d1%86%d0%b5%d0%bd%d0%b8/\">Bulgaria</a></li>\n",
      "<li class=\"menu-item menu-item-type-post_type menu-item-object-page menu-item-58\" id=\"menu-item-58\"><a href=\"https://starbucksmenuprices.com/starbucks-canada-menu/\">Canada</a></li>\n",
      "</ul>\n"
     ]
    }
   ],
   "source": [
    "# Find all <ul> elements containing the country links\n",
    "sections = soup.find_all('ul')  # Locate all <ul> elements\n",
    "\n",
    "# Lists in Python: The result is a list, which can store multiple items.\n",
    "print(sections[1])"
   ]
  },
  {
   "cell_type": "code",
   "execution_count": 8,
   "metadata": {},
   "outputs": [],
   "source": [
    "# Extract links from the <ul> sections\n",
    "country_links = []  # Empty list to store results\n",
    "\n",
    "for section in sections:\n",
    "    links = section.find_all('a')  # Find all <a> tags in each section\n",
    "    for link in links:\n",
    "        country_name = link.text.strip()  # Get the visible text of the link\n",
    "        country_url = link.get('href')  # Get the href attribute (URL)\n",
    "        country_links.append({'Country': country_name, 'URL': country_url})"
   ]
  },
  {
   "cell_type": "code",
   "execution_count": 11,
   "metadata": {},
   "outputs": [
    {
     "name": "stdout",
     "output_type": "stream",
     "text": [
      "     Country                                                URL\n",
      "0        A-C                                                  #\n",
      "1  Australia  https://starbucksmenuprices.com/starbucks-au-p...\n",
      "2     Brasil  https://starbucksmenuprices.com/starbucks-bras...\n",
      "3   Bulgaria  https://starbucksmenuprices.com/starbucks-%d1%...\n",
      "4     Canada  https://starbucksmenuprices.com/starbucks-cana...\n"
     ]
    }
   ],
   "source": [
    "df = pd.DataFrame(country_links)\n",
    "\n",
    "# Display the first few rows of the DataFrame\n",
    "print(df.head())"
   ]
  },
  {
   "cell_type": "code",
   "execution_count": 12,
   "metadata": {},
   "outputs": [
    {
     "name": "stdout",
     "output_type": "stream",
     "text": [
      "Saved country links to starbucks_country_links.csv\n"
     ]
    }
   ],
   "source": [
    "# Save the DataFrame to a CSV file\n",
    "df.to_csv('starbucks_country_links.csv', index=False)\n",
    "print(\"Saved country links to starbucks_country_links.csv\")"
   ]
  },
  {
   "cell_type": "code",
   "execution_count": 1,
   "metadata": {},
   "outputs": [
    {
     "ename": "NameError",
     "evalue": "name 'pd' is not defined",
     "output_type": "error",
     "traceback": [
      "\u001b[1;31m---------------------------------------------------------------------------\u001b[0m",
      "\u001b[1;31mNameError\u001b[0m                                 Traceback (most recent call last)",
      "Cell \u001b[1;32mIn[1], line 2\u001b[0m\n\u001b[0;32m      1\u001b[0m links_file \u001b[38;5;241m=\u001b[39m \u001b[38;5;124m'\u001b[39m\u001b[38;5;124mstarbucks_country_links.csv\u001b[39m\u001b[38;5;124m'\u001b[39m  \u001b[38;5;66;03m# File containing country links\u001b[39;00m\n\u001b[1;32m----> 2\u001b[0m country_links \u001b[38;5;241m=\u001b[39m \u001b[43mpd\u001b[49m\u001b[38;5;241m.\u001b[39mread_csv(links_file)  \u001b[38;5;66;03m# Read the CSV file into a DataFrame\u001b[39;00m\n",
      "\u001b[1;31mNameError\u001b[0m: name 'pd' is not defined"
     ]
    }
   ],
   "source": [
    "links_file = 'starbucks_country_links.csv'  # File containing country links\n",
    "country_links = pd.read_csv(links_file)  # Read the CSV file into a DataFrame"
   ]
  },
  {
   "cell_type": "code",
   "execution_count": null,
   "metadata": {},
   "outputs": [],
   "source": [
    "valid_links = country_links[~country_links['URL'].str.contains('#', na=False)]  # Filter rows without '#'\n",
    "if valid_links.empty:\n",
    "    print(\"No valid links found in the file.\")\n",
    "    exit()\n",
    "\n",
    "first_link = valid_links.iloc[0]  # Select the first valid row\n",
    "country_url = first_link['URL']  # Extract the URL from the first valid row\n",
    "country_name = first_link['Country'].lower().replace(' ', '-')  # Extract and format the country name"
   ]
  },
  {
   "cell_type": "code",
   "execution_count": null,
   "metadata": {},
   "outputs": [],
   "source": [
    "response = requests.get(country_url)\n",
    "if response.status_code == 200:\n",
    "    print(f\"Successfully fetched the page: {country_url}\")\n",
    "else:\n",
    "    print(f\"Failed to fetch webpage. Status code: {response.status_code}\")\n",
    "    exit()"
   ]
  },
  {
   "cell_type": "code",
   "execution_count": null,
   "metadata": {},
   "outputs": [],
   "source": [
    "soup = BeautifulSoup(response.text, 'html.parser')"
   ]
  },
  {
   "cell_type": "code",
   "execution_count": null,
   "metadata": {},
   "outputs": [],
   "source": [
    "starbucks_prices_heading = soup.find('h2')  # Locate the \"h2\" section heading\n",
    "if starbucks_prices_heading:\n",
    "    starbucks_prices_table = starbucks_prices_heading.find_parent('table')  # Find the parent table containing the data\n",
    "else:\n",
    "    print(\"'Hot Coffee' section not found on the page.\")\n",
    "    exit()"
   ]
  },
  {
   "cell_type": "code",
   "execution_count": null,
   "metadata": {},
   "outputs": [],
   "source": [
    "starbucks_prices_data = []  # List to store extracted data\n",
    "if starbucks_prices_table:\n",
    "    rows = starbucks_prices_table.find_all('tr', class_='item')  # Find all rows with class \"item\"\n",
    "    for row in rows:\n",
    "        cols = row.find_all('td')  # Find all columns in the row\n",
    "        cols = [col.string.strip() for col in cols]  # Clean the text\n",
    "        if cols:  # Skip empty rows\n",
    "            starbucks_prices_data.append(cols)"
   ]
  },
  {
   "cell_type": "code",
   "execution_count": null,
   "metadata": {},
   "outputs": [],
   "source": [
    "if starbucks_prices_data:\n",
    "    df_starbucks_prices= pd.DataFrame(starbucks_prices_data, columns=['Item', 'Price'])  # Create a DataFrame\n",
    "    output_file = f'starbucks_prices_{country_name}.csv'  # Generate file name with country name\n",
    "    df_starbucks_prices.to_csv(output_file, index=False)  # Save to CSV\n",
    "    print(f\"Saved 'Starbucks Prices' prices to {output_file}\")\n",
    "    print(df_starbucks_prices)  # Print the result\n",
    "else:\n",
    "    print(\"No 'Starbucks Prices Data' data found.\")"
   ]
  }
 ],
 "metadata": {
  "kernelspec": {
   "display_name": "Python 3",
   "language": "python",
   "name": "python3"
  },
  "language_info": {
   "codemirror_mode": {
    "name": "ipython",
    "version": 3
   },
   "file_extension": ".py",
   "mimetype": "text/x-python",
   "name": "python",
   "nbconvert_exporter": "python",
   "pygments_lexer": "ipython3",
   "version": "3.13.1"
  }
 },
 "nbformat": 4,
 "nbformat_minor": 2
}
