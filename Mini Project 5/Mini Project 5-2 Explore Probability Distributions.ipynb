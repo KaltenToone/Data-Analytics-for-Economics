{
 "cells": [
  {
   "cell_type": "markdown",
   "metadata": {
    "id": "ePeImos0HYMu"
   },
   "source": [
    "# Mini Project 5-2 Explore Probability Distributions"
   ]
  },
  {
   "cell_type": "markdown",
   "metadata": {
    "id": "IpCK6RfdHfW8"
   },
   "source": [
    "## **Introduction**\n",
    "\n",
    "The ability to determine which type of probability distribution best fits data, calculate z-score, and detect outliers are essential skills in data work. These capabilities enable data professionals to understand how their data is distributed and identify data points that need further examination.\n",
    "\n",
    "In this activity, you are a member of an analytics team for the United States Environmental Protection Agency (EPA). The data includes information about more than 200 sites, identified by state, county, city, and local site names. One of your main goals is to determine which regions need support to make air quality improvements. Given that carbon monoxide is a major air pollutant, you will investigate data from the Air Quality Index (AQI) with respect to carbon monoxide."
   ]
  },
  {
   "cell_type": "markdown",
   "metadata": {
    "id": "0HjDwXh3HkpB"
   },
   "source": [
    "## **Step 1: Imports** "
   ]
  },
  {
   "cell_type": "markdown",
   "metadata": {
    "id": "2bqq2KoNMb8q"
   },
   "source": [
    "Import relevant libraries, packages, and modules. For this Project, you will need `numpy`, `pandas`, `matplotlib.pyplot`, `statsmodels.api`, and `scipy`."
   ]
  },
  {
   "cell_type": "code",
   "execution_count": 1,
   "metadata": {
    "id": "GsZlNee8MXP8"
   },
   "outputs": [],
   "source": [
    "# Import numpy, pandas, matplotlib.pyplot, statsmodels.api, and scipy\n",
    "import numpy as np\n",
    "import pandas as pd     \n",
    "import matplotlib.pyplot as plt\n",
    "import statsmodels.api as sm\n",
    "import scipy.stats as stats\n",
    "\n"
   ]
  },
  {
   "cell_type": "markdown",
   "metadata": {
    "id": "jr7pHKQRMjoq"
   },
   "source": [
    "A subset of data was taken from the air quality data collected by the EPA, then transformed to suit the purposes of this lab. This subset is a .csv file named `modified_c4_epa_air_quality.csv`. As shown in this cell, the dataset has been automatically loaded in for you. You do not need to download the .csv file, or provide more code, in order to access the dataset and proceed with this lab. Please continue with this activity by completing the following instructions."
   ]
  },
  {
   "cell_type": "code",
   "execution_count": 3,
   "metadata": {
    "id": "H5ugMTQzNs3K"
   },
   "outputs": [],
   "source": [
    "# import modified_c4_epa_air_quality.csv\n",
    "df = pd.read_csv('modified_c4_epa_air_quality.csv')"
   ]
  },
  {
   "cell_type": "markdown",
   "metadata": {
    "id": "4QfLAVCkHmeQ"
   },
   "source": [
    "## **Step 2: Data exploration** "
   ]
  },
  {
   "cell_type": "markdown",
   "metadata": {
    "id": "fuauZV55QESy"
   },
   "source": [
    "Display the first 10 rows of the data to get a sense of how the data is structured."
   ]
  },
  {
   "cell_type": "code",
   "execution_count": 4,
   "metadata": {
    "id": "ngwYbaEwPjTb"
   },
   "outputs": [
    {
     "name": "stdout",
     "output_type": "stream",
     "text": [
      "   date_local    state_name   county_name      city_name  \\\n",
      "0  2018-01-01       Arizona      Maricopa        Buckeye   \n",
      "1  2018-01-01          Ohio       Belmont      Shadyside   \n",
      "2  2018-01-01       Wyoming         Teton  Not in a city   \n",
      "3  2018-01-01  Pennsylvania  Philadelphia   Philadelphia   \n",
      "4  2018-01-01          Iowa          Polk     Des Moines   \n",
      "5  2018-01-01        Hawaii      Honolulu  Not in a city   \n",
      "6  2018-01-01        Hawaii      Honolulu  Not in a city   \n",
      "7  2018-01-01  Pennsylvania          Erie           Erie   \n",
      "8  2018-01-01        Hawaii      Honolulu       Honolulu   \n",
      "9  2018-01-01      Colorado       Larimer   Fort Collins   \n",
      "\n",
      "                                     local_site_name   parameter_name  \\\n",
      "0                                            BUCKEYE  Carbon monoxide   \n",
      "1                                          Shadyside  Carbon monoxide   \n",
      "2  Yellowstone National Park - Old Faithful Snow ...  Carbon monoxide   \n",
      "3                             North East Waste (NEW)  Carbon monoxide   \n",
      "4                                          CARPENTER  Carbon monoxide   \n",
      "5                                            Kapolei  Carbon monoxide   \n",
      "6                                            Kapolei  Carbon monoxide   \n",
      "7                                                NaN  Carbon monoxide   \n",
      "8                                           Honolulu  Carbon monoxide   \n",
      "9                      Fort Collins - CSU - S. Mason  Carbon monoxide   \n",
      "\n",
      "    units_of_measure   aqi_log  \n",
      "0  Parts per million  2.079442  \n",
      "1  Parts per million  1.791759  \n",
      "2  Parts per million  1.098612  \n",
      "3  Parts per million  1.386294  \n",
      "4  Parts per million  1.386294  \n",
      "5  Parts per million  2.708050  \n",
      "6  Parts per million  1.098612  \n",
      "7  Parts per million  1.098612  \n",
      "8  Parts per million  1.791759  \n",
      "9  Parts per million  1.945910  \n"
     ]
    }
   ],
   "source": [
    "# Display first 10 rows of df\n",
    "print(df.head(10))\n"
   ]
  },
  {
   "cell_type": "markdown",
   "metadata": {
    "id": "nV2QIMFBqtOP"
   },
   "source": [
    "The `aqi_log` column represents AQI readings that were transformed logarithmically to suit the objectives of this lab. Taking a logarithm of the aqi to get a bell-shaped distribution is outside the scope of this course, but is helpful to see the normal distribution."
   ]
  },
  {
   "cell_type": "markdown",
   "metadata": {
    "id": "tBGSJbISFrS-"
   },
   "source": [
    "To better understand the quantity of data you are working with, display the number of rows and the number of columns."
   ]
  },
  {
   "cell_type": "code",
   "execution_count": 5,
   "metadata": {
    "id": "GuODVFHZF1mu"
   },
   "outputs": [
    {
     "name": "stdout",
     "output_type": "stream",
     "text": [
      "(260, 8)\n"
     ]
    }
   ],
   "source": [
    "# Display number of rows, number of columns.\n",
    "print(df.shape)\n"
   ]
  },
  {
   "cell_type": "markdown",
   "metadata": {
    "id": "1GOeL7M5_551"
   },
   "source": [
    "Now, you want to find out whether `aqi_log` fits a specific type of probability distribution. Create a histogram to visualize the distribution of `aqi_log`. Then, based on its shape, visually determine if it resembles a particular distribution."
   ]
  },
  {
   "cell_type": "code",
   "execution_count": 7,
   "metadata": {
    "id": "c_5_FpSOC4A9"
   },
   "outputs": [
    {
     "data": {
      "text/plain": [
       "(array([ 2.,  0.,  0.,  0.,  0., 13.,  0.,  0., 58.,  0., 54.,  0.,  0.,\n",
       "        28., 14., 17.,  7.,  9., 19.,  0.,  9.,  9.,  7.,  4.,  2.,  4.,\n",
       "         0.,  1.,  2.,  1.]),\n",
       " array([0.        , 0.13106085, 0.26212171, 0.39318256, 0.52424342,\n",
       "        0.65530427, 0.78636513, 0.91742598, 1.04848684, 1.17954769,\n",
       "        1.31060854, 1.4416694 , 1.57273025, 1.70379111, 1.83485196,\n",
       "        1.96591282, 2.09697367, 2.22803453, 2.35909538, 2.49015623,\n",
       "        2.62121709, 2.75227794, 2.8833388 , 3.01439965, 3.14546051,\n",
       "        3.27652136, 3.40758222, 3.53864307, 3.66970392, 3.80076478,\n",
       "        3.93182563]),\n",
       " <BarContainer object of 30 artists>)"
      ]
     },
     "execution_count": 7,
     "metadata": {},
     "output_type": "execute_result"
    },
    {
     "data": {
      "image/png": "[encoded data removed]",
      "text/plain": [
       "<Figure size 640x480 with 1 Axes>"
      ]
     },
     "metadata": {},
     "output_type": "display_data"
    }
   ],
   "source": [
    "# Create a histogram to visualize distribution of aqi_log.\n",
    "plt.hist(df['aqi_log'], bins=30, edgecolor='black')\n"
   ]
  },
  {
   "cell_type": "markdown",
   "metadata": {
    "id": "sGlw_4gfuSbS"
   },
   "source": [
    "**Question:** What do you observe about the shape of the distribution from the histogram? "
   ]
  },
  {
   "cell_type": "markdown",
   "metadata": {
    "id": "7syfcROm10b0"
   },
   "source": [
    "A: It is a right-tailed distribution"
   ]
  },
  {
   "cell_type": "markdown",
   "metadata": {
    "id": "79fCHMhDHqf5"
   },
   "source": [
    "## **Step 3: Statistical tests**\n",
    "\n",
    "Use the empirical rule to observe the data, then test and verify that it is normally distributed.\n"
   ]
  },
  {
   "cell_type": "markdown",
   "metadata": {
    "id": "Yn0a1mcrld2y"
   },
   "source": [
    " As you have learned, the empirical rule states that, for every normal distribution: \n",
    "- 68% of the data fall within 1 standard deviation of the mean\n",
    "- 95% of the data fall within 2 standard deviations of the mean\n",
    "- 99.7% of the data fall within 3 standard deviations of the mean\n"
   ]
  },
  {
   "cell_type": "markdown",
   "metadata": {
    "id": "Q6rEDaEJnFgU"
   },
   "source": [
    "First, define two variables to store the mean and standard deviation, respectively, for `aqi_log`. Creating these variables will help you easily access these measures as you continue with the calculations involved in applying the empirical rule. "
   ]
  },
  {
   "cell_type": "code",
   "execution_count": 8,
   "metadata": {
    "id": "Bl8hZPnrmevm"
   },
   "outputs": [
    {
     "name": "stdout",
     "output_type": "stream",
     "text": [
      "Mean of aqi_log: 1.7669210929985582\n"
     ]
    }
   ],
   "source": [
    "# Define variable for aqi_log mean.\n",
    "aqi_log_mean = df['aqi_log'].mean()\n",
    "\n",
    "\n",
    "# Print out the mean.\n",
    "print(\"Mean of aqi_log:\", aqi_log_mean)\n"
   ]
  },
  {
   "cell_type": "code",
   "execution_count": 9,
   "metadata": {
    "id": "tIzj5aGAoU_L"
   },
   "outputs": [
    {
     "name": "stdout",
     "output_type": "stream",
     "text": [
      "Standard deviation of aqi_log: 0.7147155520223721\n"
     ]
    }
   ],
   "source": [
    "# Define variable for aqi_log standard deviation.\n",
    "aqi_log_std = df['aqi_log'].std(ddof=1)  # Sample standard deviation, use ddof=1 for sample std.\n",
    "\n",
    "\n",
    "# Print out the standard deviation.\n",
    "print(\"Standard deviation of aqi_log:\", aqi_log_std)\n"
   ]
  },
  {
   "cell_type": "markdown",
   "metadata": {
    "id": "Bajx-iIspBLq"
   },
   "source": [
    "Now, check the first part of the empirical rule: whether 68% of the `aqi_log` data falls within 1 standard deviation of the mean.\n",
    "\n",
    "To compute the actual percentage of the data that satisfies this criteria, define the lower limit (for example, 1 standard deviation below the mean) and the upper limit (for example, 1 standard deviation above the mean). This will enable you to create a range and confirm whether each value falls within it."
   ]
  },
  {
   "cell_type": "code",
   "execution_count": 11,
   "metadata": {
    "id": "cyHe7ElJpwk7"
   },
   "outputs": [
    {
     "name": "stdout",
     "output_type": "stream",
     "text": [
      "Lower limit: 1.052205540976186\n",
      "Upper limit: 2.4816366450209304\n"
     ]
    }
   ],
   "source": [
    "# Define variable for lower limit, 1 standard deviation below the mean.\n",
    "lower_limit = aqi_log_mean - aqi_log_std\n",
    "\n",
    "\n",
    "# Define variable for upper limit, 1 standard deviation above the mean.\n",
    "upper_limit = aqi_log_mean + aqi_log_std\n",
    "\n",
    "\n",
    "# Display lower_limit, upper_limit.\n",
    "print(\"Lower limit:\", lower_limit)\n",
    "print(\"Upper limit:\", upper_limit)\n"
   ]
  },
  {
   "cell_type": "code",
   "execution_count": 13,
   "metadata": {
    "id": "3nsfy9M2uYmJ"
   },
   "outputs": [
    {
     "name": "stdout",
     "output_type": "stream",
     "text": [
      "76.15384615384615 % of data falls within 1 standard deviation of the mean.\n"
     ]
    }
   ],
   "source": [
    "# Display the percent of df that falls within 1 standard deviation of the mean.\n",
    "within_1_std = df[(df['aqi_log'] >= lower_limit) & (df['aqi_log'] <= upper_limit)]\n",
    "print(within_1_std.shape[0] / df.shape[0] * 100, \"% of data falls within 1 standard deviation of the mean.\")\n",
    "\n"
   ]
  },
  {
   "cell_type": "markdown",
   "metadata": {
    "id": "ifuD1yuRx399"
   },
   "source": [
    "Now, consider the second part of the empirical rule: whether 95% of the `aqi_log` data falls within 2 standard deviations of the mean.\n",
    "\n",
    "To compute the actual percentage of the data that satisfies this criteria, define the lower limit (for example, 2 standard deviations below the mean) and the upper limit (for example, 2 standard deviations above the mean). This will enable you to create a range and confirm whether each value falls within it."
   ]
  },
  {
   "cell_type": "code",
   "execution_count": 14,
   "metadata": {
    "id": "whe6r6J8x39_"
   },
   "outputs": [
    {
     "name": "stdout",
     "output_type": "stream",
     "text": [
      "Lower limit: 0.3374899889538139\n",
      "Upper limit: 3.1963521970433026\n"
     ]
    }
   ],
   "source": [
    "# Define variable for lower limit, 2 standard deviations below the mean.\n",
    "lower_limit = aqi_log_mean - 2 * aqi_log_std\n",
    "\n",
    "\n",
    "# Define variable for upper limit, 2 standard deviations below the mean.\n",
    "upper_limit = aqi_log_mean + 2 * aqi_log_std\n",
    "\n",
    "\n",
    "# Display lower_limit, upper_limit.\n",
    "print(\"Lower limit:\", lower_limit)\n",
    "print(\"Upper limit:\", upper_limit)\n"
   ]
  },
  {
   "cell_type": "code",
   "execution_count": 15,
   "metadata": {
    "id": "7CbBgCm3x3-D"
   },
   "outputs": [
    {
     "name": "stdout",
     "output_type": "stream",
     "text": [
      "95.76923076923077 % of data falls within 2 standard deviations of the mean.\n"
     ]
    }
   ],
   "source": [
    "# Display the actual percentage of data that falls within 2 standard deviations of the mean.\n",
    "within_2_std = df[(df['aqi_log'] >= lower_limit) & (df['aqi_log'] <= upper_limit)]\n",
    "print(within_2_std.shape[0] / df.shape[0] * 100, \"% of data falls within 2 standard deviations of the mean.\")\n"
   ]
  },
  {
   "cell_type": "markdown",
   "metadata": {
    "id": "iDwqzZv7yRU2"
   },
   "source": [
    "Now, consider the third part of the empirical rule:whether 99.7% of the `aqi_log` data falls within 3 standard deviations of the mean.\n",
    "\n",
    "To compute the actual percentage of the data that satisfies this criteria, define the lower limit (for example, 3 standard deviations below the mean) and the upper limit (for example, 3 standard deviations above the mean). This will enable you to create a range and confirm whether each value falls within it."
   ]
  },
  {
   "cell_type": "code",
   "execution_count": 16,
   "metadata": {
    "id": "LIgS7jmXyRU4"
   },
   "outputs": [
    {
     "name": "stdout",
     "output_type": "stream",
     "text": [
      "Lower limit: -0.37722556306855815\n",
      "Upper limit: 3.9110677490656744\n"
     ]
    }
   ],
   "source": [
    "# Define variable for lower limit, 3 standard deviations below the mean.\n",
    "lower_limit = aqi_log_mean - 3 * aqi_log_std\n",
    "\n",
    "\n",
    "# Define variable for upper limit, 3 standard deviations above the mean.\n",
    "upper_limit = aqi_log_mean + 3 * aqi_log_std\n",
    "\n",
    "\n",
    "# Display lower_limit, upper_limit.\n",
    "print(\"Lower limit:\", lower_limit)\n",
    "print(\"Upper limit:\", upper_limit)\n"
   ]
  },
  {
   "cell_type": "code",
   "execution_count": 18,
   "metadata": {
    "id": "2YNWONRKyRU9"
   },
   "outputs": [
    {
     "name": "stdout",
     "output_type": "stream",
     "text": [
      "99.61538461538461 % of data falls within 3 standard deviations of the mean.\n"
     ]
    }
   ],
   "source": [
    "# Display the actual percentage of data that falls within 3 standard deviations of the mean.\n",
    "within_3_std = df[(df['aqi_log'] >= lower_limit) & (df['aqi_log'] <= upper_limit)]\n",
    "print(within_3_std.shape[0] / df.shape[0] * 100, \"% of data falls within 3 standard deviations of the mean.\")\n",
    "\n"
   ]
  },
  {
   "cell_type": "markdown",
   "metadata": {
    "id": "WMs52bG7Htuc"
   },
   "source": [
    "## **Step 4: Results and evaluation** "
   ]
  },
  {
   "cell_type": "markdown",
   "metadata": {
    "id": "33nFzX120u2z"
   },
   "source": [
    "**Question:** What results did you attain by applying the empirical rule? "
   ]
  },
  {
   "cell_type": "markdown",
   "metadata": {
    "id": "MDp6w9Yu11lm"
   },
   "source": [
    "A: After applying the rule we discovered that the data fits a normal distribution."
   ]
  },
  {
   "cell_type": "markdown",
   "metadata": {
    "id": "yGVspw1N6Zom"
   },
   "source": [
    "**Question:** How would you use z-score to find outliers? "
   ]
  },
  {
   "cell_type": "markdown",
   "metadata": {
    "id": "1tFlqjv112BU"
   },
   "source": [
    "A: After normalizing the data I would use the standard deviations to determine if something is more than 3 standard deviations from the mean. If it is, I would discard it as an outlier."
   ]
  },
  {
   "cell_type": "markdown",
   "metadata": {
    "id": "OiBYE9FW8bSf"
   },
   "source": [
    "Compute the z-score for every `aqi_log` value. Then, add a column named `z_score` in the data to store those results. "
   ]
  },
  {
   "cell_type": "code",
   "execution_count": 19,
   "metadata": {
    "id": "EGh6jJ-a9bph"
   },
   "outputs": [
    {
     "name": "stdout",
     "output_type": "stream",
     "text": [
      "   date_local    state_name   county_name      city_name  \\\n",
      "0  2018-01-01       Arizona      Maricopa        Buckeye   \n",
      "1  2018-01-01          Ohio       Belmont      Shadyside   \n",
      "2  2018-01-01       Wyoming         Teton  Not in a city   \n",
      "3  2018-01-01  Pennsylvania  Philadelphia   Philadelphia   \n",
      "4  2018-01-01          Iowa          Polk     Des Moines   \n",
      "\n",
      "                                     local_site_name   parameter_name  \\\n",
      "0                                            BUCKEYE  Carbon monoxide   \n",
      "1                                          Shadyside  Carbon monoxide   \n",
      "2  Yellowstone National Park - Old Faithful Snow ...  Carbon monoxide   \n",
      "3                             North East Waste (NEW)  Carbon monoxide   \n",
      "4                                          CARPENTER  Carbon monoxide   \n",
      "\n",
      "    units_of_measure   aqi_log   z_score  \n",
      "0  Parts per million  2.079442  0.437265  \n",
      "1  Parts per million  1.791759  0.034753  \n",
      "2  Parts per million  1.098612 -0.935070  \n",
      "3  Parts per million  1.386294 -0.532557  \n",
      "4  Parts per million  1.386294 -0.532557  \n"
     ]
    }
   ],
   "source": [
    "# Compute the z-score for every aqi_log value, and add a column named z_score in the data to store those results.\n",
    "df['z_score'] = (df['aqi_log'] - aqi_log_mean) / aqi_log_std  # z-score formula: (X - mean) / std\n",
    "\n",
    "\n",
    " # ddof=degrees of freedom correction (sample vs. population)\n",
    "\n",
    "# Display the first 5 rows to ensure that the new column was added.\n",
    "print(df.head(5))\n",
    "\n",
    "\n"
   ]
  },
  {
   "cell_type": "markdown",
   "metadata": {
    "id": "0A4dXHJz-r4q"
   },
   "source": [
    "Identify the parts of the data where `aqi_log` is above or below 3 standard deviations of the mean."
   ]
  },
  {
   "cell_type": "code",
   "execution_count": 21,
   "metadata": {
    "id": "uZKI5h2q-5TI"
   },
   "outputs": [
    {
     "name": "stdout",
     "output_type": "stream",
     "text": [
      "1 outliers found.\n"
     ]
    }
   ],
   "source": [
    "# Display data where `aqi_log` is above or below 3 standard deviations of the mean\n",
    "outliers = df[(df['z_score'] < -3) | (df['z_score'] > 3)]\n",
    "print(outliers.shape[0], \"outliers found.\")\n"
   ]
  },
  {
   "cell_type": "markdown",
   "metadata": {
    "id": "KKE1k3i4_gHK"
   },
   "source": [
    "**Question:** What do you observe about potential outliers based on the calculations?\n"
   ]
  },
  {
   "cell_type": "markdown",
   "metadata": {
    "id": "VUJidfrT12kv"
   },
   "source": [
    "A: There is one outlier in the dataset"
   ]
  },
  {
   "cell_type": "markdown",
   "metadata": {
    "id": "WkzrnFdy7nQL"
   },
   "source": [
    "**Question:** Why is outlier detection an important part of this project? "
   ]
  },
  {
   "cell_type": "markdown",
   "metadata": {
    "id": "zGDvFeUc13Aj"
   },
   "source": [
    "A: Ignoring outliers leads to much higher accuracy in predicting values."
   ]
  },
  {
   "cell_type": "markdown",
   "metadata": {
    "id": "W1bNKZYNHjDr"
   },
   "source": [
    "## **Considerations**"
   ]
  },
  {
   "cell_type": "markdown",
   "metadata": {
    "id": "kecJlWA815Ld"
   },
   "source": [
    "**What are some key takeaways that you learned during this lab?**"
   ]
  },
  {
   "cell_type": "markdown",
   "metadata": {
    "id": "WviSDGgi17BQ"
   },
   "source": [
    "A: It is extremely important to find outliers and remove them from the dataset."
   ]
  },
  {
   "cell_type": "markdown",
   "metadata": {
    "id": "XQ5JZ-MP17YU"
   },
   "source": [
    "**What summary would you provide to audiences? Consider the distribution of the data and which sites would benefit from additional research.**"
   ]
  },
  {
   "cell_type": "markdown",
   "metadata": {
    "id": "5eJaCTo_19Y4"
   },
   "source": [
    "A: Almost all data points should fall within 2 std dev of the mean. It is important to note how infrequently data falls outside these bounds."
   ]
  },
  {
   "cell_type": "markdown",
   "metadata": {
    "id": "K2AW3yb9QtIF"
   },
   "source": [
    "**Reference**\n",
    "\n",
    "US EPA, OAR. 2014, July 8. [Air Data: Air Quality Data Collected at Outdoor Monitors Across the US](https://www.epa.gov/outdoor-air-quality-data). "
   ]
  },
  {
   "cell_type": "markdown",
   "metadata": {},
   "source": []
  }
 ],
 "metadata": {
  "colab": {
   "collapsed_sections": [],
   "provenance": []
  },
  "kernelspec": {
   "display_name": "Python 3",
   "language": "python",
   "name": "python3"
  },
  "language_info": {
   "codemirror_mode": {
    "name": "ipython",
    "version": 3
   },
   "file_extension": ".py",
   "mimetype": "text/x-python",
   "name": "python",
   "nbconvert_exporter": "python",
   "pygments_lexer": "ipython3",
   "version": "3.13.1"
  }
 },
 "nbformat": 4,
 "nbformat_minor": 1
}
